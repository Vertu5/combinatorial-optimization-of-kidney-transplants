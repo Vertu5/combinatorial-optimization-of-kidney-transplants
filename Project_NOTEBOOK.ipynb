{
 "cells": [
  {
   "cell_type": "markdown",
   "id": "7ac6362e",
   "metadata": {},
   "source": [
    "# Part1: Basic Model "
   ]
  },
  {
   "cell_type": "code",
   "execution_count": 1,
   "id": "3157dcc9-e18c-47a4-86b7-12042ad2ad8a",
   "metadata": {},
   "outputs": [],
   "source": [
    "from kidney_functions import *\n",
    "from solve_kidney_exchange import *\n"
   ]
  },
  {
   "cell_type": "code",
   "execution_count": 2,
   "id": "9e93c334-6dcf-4439-95e2-7bc6e92b6d4c",
   "metadata": {},
   "outputs": [
    {
     "name": "stdout",
     "output_type": "stream",
     "text": [
      "Start solving for kidney exchange\n",
      "Set parameter Username\n",
      "Academic license - for non-commercial use only - expires 2024-05-25\n",
      "end of solving for kidney exchange\n",
      "\n",
      "The objective value is 3.3\n",
      "[('0', '6'), ('5', '0'), ('6', '1'), ('8', '3'), ('9', '4'), ('1', '5'), ('2', '7'), ('7', '2'), ('3', '8'), ('4', '9')]\n",
      "\n",
      "Assignment\n",
      "Assign donor 0 to patient 1\n",
      "Assign patient 0 to donor 0\n",
      "Assign patient 1 to donor 1\n",
      "Assign patient 3 to donor 3\n",
      "Assign patient 4 to donor 4\n",
      "Assign donor 1 to patient 0\n",
      "Assign donor 2 to patient 2\n",
      "Assign patient 2 to donor 2\n",
      "Assign donor 3 to patient 3\n",
      "Assign donor 4 to patient 4\n",
      "\n"
     ]
    }
   ],
   "source": [
    "# Here we compute the solution with Gurobi\n",
    "init_graph_sol = solve_kidney_exchange('small.csv', False)"
   ]
  },
  {
   "cell_type": "code",
   "execution_count": 3,
   "id": "7e49628b-dc9d-468a-b98d-b045d9124338",
   "metadata": {
    "tags": []
   },
   "outputs": [
    {
     "name": "stdout",
     "output_type": "stream",
     "text": [
      "Start solving for kidney exchange\n",
      "end of solving for kidney exchange\n",
      "\n",
      "The objective value is 12.200000000000003\n",
      "[('0', '20'), ('20', '0'), ('23', '3'), ('24', '4'), ('2', '22'), ('22', '2'), ('26', '6'), ('3', '23'), ('33', '13'), ('34', '14'), ('4', '35'), ('25', '5'), ('35', '15'), ('36', '16'), ('5', '27'), ('27', '7'), ('6', '26'), ('39', '19'), ('7', '25'), ('29', '9'), ('9', '29'), ('10', '31'), ('30', '10'), ('31', '11'), ('11', '34'), ('12', '30'), ('13', '33'), ('32', '12'), ('14', '32'), ('15', '24'), ('16', '36'), ('37', '17'), ('17', '37'), ('19', '39')]\n",
      "\n",
      "Assignment\n",
      "Assign donor 0 to patient 0\n",
      "Assign patient 0 to donor 0\n",
      "Assign patient 3 to donor 3\n",
      "Assign patient 4 to donor 4\n",
      "Assign donor 2 to patient 2\n",
      "Assign patient 2 to donor 2\n",
      "Assign patient 6 to donor 6\n",
      "Assign donor 3 to patient 3\n",
      "Assign patient 13 to donor 13\n",
      "Assign patient 14 to donor 14\n",
      "Assign donor 4 to patient 15\n",
      "Assign patient 5 to donor 5\n",
      "Assign patient 15 to donor 15\n",
      "Assign patient 16 to donor 16\n",
      "Assign donor 5 to patient 7\n",
      "Assign patient 7 to donor 7\n",
      "Assign donor 6 to patient 6\n",
      "Assign patient 19 to donor 19\n",
      "Assign donor 7 to patient 5\n",
      "Assign patient 9 to donor 9\n",
      "Assign donor 9 to patient 9\n",
      "Assign donor 10 to patient 11\n",
      "Assign patient 10 to donor 10\n",
      "Assign patient 11 to donor 11\n",
      "Assign donor 11 to patient 14\n",
      "Assign donor 12 to patient 10\n",
      "Assign donor 13 to patient 13\n",
      "Assign patient 12 to donor 12\n",
      "Assign donor 14 to patient 12\n",
      "Assign donor 15 to patient 4\n",
      "Assign donor 16 to patient 16\n",
      "Assign patient 17 to donor 17\n",
      "Assign donor 17 to patient 17\n",
      "Assign donor 19 to patient 19\n",
      "\n"
     ]
    }
   ],
   "source": [
    "# Here we compute the solution with Gurobi\n",
    "init_graph_sol = solve_kidney_exchange('normal.csv', False)"
   ]
  },
  {
   "cell_type": "code",
   "execution_count": 4,
   "id": "014e67b7-f890-4433-a3d9-5a82d7c8f932",
   "metadata": {
    "tags": []
   },
   "outputs": [
    {
     "name": "stdout",
     "output_type": "stream",
     "text": [
      "Start solving for kidney exchange\n",
      "end of solving for kidney exchange\n",
      "\n",
      "The objective value is 21.5\n",
      "[('48', '8'), ('49', '9'), ('1', '41'), ('41', '1'), ('42', '2'), ('74', '34'), ('2', '49'), ('43', '3'), ('3', '73'), ('45', '5'), ('46', '6'), ('73', '33'), ('4', '48'), ('5', '45'), ('44', '4'), ('6', '61'), ('61', '21'), ('8', '42'), ('9', '44'), ('52', '12'), ('10', '51'), ('51', '11'), ('57', '17'), ('11', '58'), ('50', '10'), ('58', '18'), ('12', '46'), ('13', '56'), ('56', '16'), ('62', '22'), ('16', '57'), ('59', '19'), ('17', '52'), ('18', '50'), ('19', '53'), ('53', '13'), ('69', '29'), ('21', '66'), ('66', '26'), ('22', '65'), ('65', '25'), ('67', '27'), ('23', '62'), ('68', '28'), ('24', '69'), ('25', '67'), ('26', '59'), ('64', '24'), ('27', '68'), ('28', '63'), ('63', '23'), ('29', '74'), ('30', '78'), ('70', '30'), ('72', '32'), ('78', '38'), ('31', '79'), ('79', '39'), ('32', '43'), ('33', '70'), ('34', '71'), ('71', '31'), ('38', '72'), ('39', '64')]\n",
      "\n",
      "Assignment\n",
      "Assign patient 8 to donor 8\n",
      "Assign patient 9 to donor 9\n",
      "Assign donor 1 to patient 1\n",
      "Assign patient 1 to donor 1\n",
      "Assign patient 2 to donor 2\n",
      "Assign patient 34 to donor 34\n",
      "Assign donor 2 to patient 9\n",
      "Assign patient 3 to donor 3\n",
      "Assign donor 3 to patient 33\n",
      "Assign patient 5 to donor 5\n",
      "Assign patient 6 to donor 6\n",
      "Assign patient 33 to donor 33\n",
      "Assign donor 4 to patient 8\n",
      "Assign donor 5 to patient 5\n",
      "Assign patient 4 to donor 4\n",
      "Assign donor 6 to patient 21\n",
      "Assign patient 21 to donor 21\n",
      "Assign donor 8 to patient 2\n",
      "Assign donor 9 to patient 4\n",
      "Assign patient 12 to donor 12\n",
      "Assign donor 10 to patient 11\n",
      "Assign patient 11 to donor 11\n",
      "Assign patient 17 to donor 17\n",
      "Assign donor 11 to patient 18\n",
      "Assign patient 10 to donor 10\n",
      "Assign patient 18 to donor 18\n",
      "Assign donor 12 to patient 6\n",
      "Assign donor 13 to patient 16\n",
      "Assign patient 16 to donor 16\n",
      "Assign patient 22 to donor 22\n",
      "Assign donor 16 to patient 17\n",
      "Assign patient 19 to donor 19\n",
      "Assign donor 17 to patient 12\n",
      "Assign donor 18 to patient 10\n",
      "Assign donor 19 to patient 13\n",
      "Assign patient 13 to donor 13\n",
      "Assign patient 29 to donor 29\n",
      "Assign donor 21 to patient 26\n",
      "Assign patient 26 to donor 26\n",
      "Assign donor 22 to patient 25\n",
      "Assign patient 25 to donor 25\n",
      "Assign patient 27 to donor 27\n",
      "Assign donor 23 to patient 22\n",
      "Assign patient 28 to donor 28\n",
      "Assign donor 24 to patient 29\n",
      "Assign donor 25 to patient 27\n",
      "Assign donor 26 to patient 19\n",
      "Assign patient 24 to donor 24\n",
      "Assign donor 27 to patient 28\n",
      "Assign donor 28 to patient 23\n",
      "Assign patient 23 to donor 23\n",
      "Assign donor 29 to patient 34\n",
      "Assign donor 30 to patient 38\n",
      "Assign patient 30 to donor 30\n",
      "Assign patient 32 to donor 32\n",
      "Assign patient 38 to donor 38\n",
      "Assign donor 31 to patient 39\n",
      "Assign patient 39 to donor 39\n",
      "Assign donor 32 to patient 3\n",
      "Assign donor 33 to patient 30\n",
      "Assign donor 34 to patient 31\n",
      "Assign patient 31 to donor 31\n",
      "Assign donor 38 to patient 32\n",
      "Assign donor 39 to patient 24\n",
      "\n"
     ]
    }
   ],
   "source": [
    "# Here we compute the solution with Gurobi\n",
    "init_graph_sol = solve_kidney_exchange('large.csv', False)"
   ]
  },
  {
   "cell_type": "markdown",
   "id": "32a82a59-3d6c-441c-b0af-c21c4b0dd66d",
   "metadata": {},
   "source": [
    "# Part2: POSITIVE CYCLE"
   ]
  },
  {
   "cell_type": "code",
   "execution_count": 5,
   "id": "d2ac94d4-91b2-4aac-b1a2-1a72e20651d8",
   "metadata": {},
   "outputs": [],
   "source": [
    "from positive_cycle import *"
   ]
  },
  {
   "cell_type": "code",
   "execution_count": 6,
   "id": "a0e56b29-a692-40a8-bd37-2748667ac277",
   "metadata": {},
   "outputs": [
    {
     "name": "stdout",
     "output_type": "stream",
     "text": [
      "Assign patient 0 to donor 0\n",
      "Assign donor 2 to patient 2\n",
      "Assign patient 2 to donor 2\n",
      "Assign donor 3 to patient 3\n",
      "Assign patient 3 to donor 3\n",
      "Assign donor 4 to patient 4\n",
      "Assign patient 4 to donor 4\n",
      "Assign donor 0 to patient 1\n",
      "Assign donor 1 to patient 0\n",
      "Assign patient 1 to donor 1\n"
     ]
    }
   ],
   "source": [
    "# Preprocess the data and create the graph\n",
    "graph, _ = preprocess_data(\"small.csv\")\n",
    "\n",
    "# Run the algorithm\n",
    "result, formatted_assignment = solver(graph)\n",
    "# Print the result\n",
    "for assignment in formatted_assignment:\n",
    "    print(assignment)"
   ]
  },
  {
   "cell_type": "code",
   "execution_count": 7,
   "id": "2836383e-d6d2-49fa-84de-c180ce9572f9",
   "metadata": {
    "tags": []
   },
   "outputs": [
    {
     "name": "stdout",
     "output_type": "stream",
     "text": [
      "Assign patient 0 to donor 0\n",
      "Assign donor 2 to patient 2\n",
      "Assign patient 2 to donor 2\n",
      "Assign patient 3 to donor 3\n",
      "Assign patient 5 to donor 5\n",
      "Assign donor 6 to patient 6\n",
      "Assign patient 6 to donor 6\n",
      "Assign donor 9 to patient 9\n",
      "Assign patient 9 to donor 9\n",
      "Assign patient 10 to donor 10\n",
      "Assign patient 13 to donor 13\n",
      "Assign donor 16 to patient 16\n",
      "Assign patient 16 to donor 16\n",
      "Assign donor 17 to patient 17\n",
      "Assign patient 17 to donor 17\n",
      "Assign donor 19 to patient 19\n",
      "Assign patient 19 to donor 19\n",
      "Assign patient 4 to donor 4\n",
      "Assign donor 5 to patient 7\n",
      "Assign donor 7 to patient 5\n",
      "Assign patient 7 to donor 7\n",
      "Assign donor 3 to patient 13\n",
      "Assign donor 11 to patient 0\n",
      "Assign patient 11 to donor 11\n",
      "Assign donor 10 to patient 11\n",
      "Assign donor 12 to patient 10\n",
      "Assign patient 12 to donor 12\n",
      "Assign donor 4 to patient 15\n",
      "Assign donor 0 to patient 3\n",
      "Assign donor 15 to patient 4\n",
      "Assign patient 15 to donor 15\n",
      "Assign donor 13 to patient 14\n",
      "Assign donor 14 to patient 12\n",
      "Assign patient 14 to donor 14\n"
     ]
    }
   ],
   "source": [
    "# Preprocess the data and create the graph\n",
    "graph, _ = preprocess_data(\"normal.csv\")\n",
    "\n",
    "# Run the algorithm\n",
    "result, formatted_assignment = solver(graph)\n",
    "# Print the result\n",
    "for assignment in formatted_assignment:\n",
    "    print(assignment)"
   ]
  },
  {
   "cell_type": "code",
   "execution_count": 8,
   "id": "f97ee6df-827a-4254-b6df-4e817df68465",
   "metadata": {
    "tags": []
   },
   "outputs": [
    {
     "name": "stdout",
     "output_type": "stream",
     "text": [
      "Assign patient 1 to donor 1\n",
      "Assign patient 6 to donor 6\n",
      "Assign patient 12 to donor 12\n",
      "Assign patient 17 to donor 17\n",
      "Assign patient 30 to donor 30\n",
      "Assign patient 2 to donor 2\n",
      "Assign patient 3 to donor 3\n",
      "Assign donor 8 to patient 2\n",
      "Assign patient 8 to donor 8\n",
      "Assign patient 9 to donor 9\n",
      "Assign donor 10 to patient 11\n",
      "Assign patient 10 to donor 10\n",
      "Assign patient 11 to donor 11\n",
      "Assign donor 11 to patient 18\n",
      "Assign patient 18 to donor 18\n",
      "Assign donor 17 to patient 12\n",
      "Assign donor 18 to patient 10\n",
      "Assign donor 15 to patient 22\n",
      "Assign patient 15 to donor 15\n",
      "Assign donor 9 to patient 15\n",
      "Assign patient 22 to donor 22\n",
      "Assign patient 16 to donor 16\n",
      "Assign patient 19 to donor 19\n",
      "Assign patient 29 to donor 29\n",
      "Assign donor 21 to patient 26\n",
      "Assign patient 21 to donor 21\n",
      "Assign donor 6 to patient 21\n",
      "Assign donor 12 to patient 6\n",
      "Assign patient 26 to donor 26\n",
      "Assign patient 24 to donor 24\n",
      "Assign patient 28 to donor 28\n",
      "Assign donor 24 to patient 29\n",
      "Assign donor 13 to patient 16\n",
      "Assign patient 13 to donor 13\n",
      "Assign donor 19 to patient 13\n",
      "Assign donor 27 to patient 28\n",
      "Assign patient 27 to donor 27\n",
      "Assign donor 25 to patient 27\n",
      "Assign patient 25 to donor 25\n",
      "Assign donor 22 to patient 25\n",
      "Assign donor 28 to patient 1\n",
      "Assign donor 29 to patient 34\n",
      "Assign patient 31 to donor 31\n",
      "Assign donor 34 to patient 31\n",
      "Assign patient 34 to donor 34\n",
      "Assign donor 31 to patient 39\n",
      "Assign donor 16 to patient 17\n",
      "Assign donor 26 to patient 19\n",
      "Assign donor 39 to patient 24\n",
      "Assign patient 39 to donor 39\n",
      "Assign donor 3 to patient 33\n",
      "Assign donor 1 to patient 8\n",
      "Assign donor 2 to patient 9\n",
      "Assign donor 32 to patient 3\n",
      "Assign patient 32 to donor 32\n",
      "Assign donor 33 to patient 30\n",
      "Assign patient 33 to donor 33\n",
      "Assign donor 5 to patient 5\n",
      "Assign patient 5 to donor 5\n",
      "Assign donor 30 to patient 38\n",
      "Assign donor 38 to patient 32\n",
      "Assign patient 38 to donor 38\n"
     ]
    }
   ],
   "source": [
    "# Preprocess the data and create the graph\n",
    "graph, _ = preprocess_data(\"large.csv\")\n",
    "\n",
    "# Run the algorithm\n",
    "result, formatted_assignment = solver(graph)\n",
    "# Print the result\n",
    "for assignment in formatted_assignment:\n",
    "    print(assignment)"
   ]
  },
  {
   "cell_type": "markdown",
   "id": "77c29403",
   "metadata": {},
   "source": [
    "# Part3: Implementation of the model with M max Constraints"
   ]
  },
  {
   "cell_type": "code",
   "execution_count": 9,
   "id": "53c01dfe-8fc5-46b1-96c5-4cf682c88e5a",
   "metadata": {},
   "outputs": [
    {
     "name": "stdout",
     "output_type": "stream",
     "text": [
      "Start solving for kidney exchange with cycle\n",
      "end of solving for kidney exchange with cycle\n",
      "\n",
      "Optimal solution with cycle length of maximum = 1\n",
      "The objective value is 3.2\n",
      "[('0', '5'), ('5', '0'), ('8', '3'), ('9', '4'), ('2', '7'), ('7', '2'), ('3', '8'), ('4', '9')]\n",
      "\n",
      "Assignment\n",
      "Assign donor 0 to patient 0\n",
      "Assign patient 0 to donor 0\n",
      "Assign patient 3 to donor 3\n",
      "Assign patient 4 to donor 4\n",
      "Assign donor 2 to patient 2\n",
      "Assign patient 2 to donor 2\n",
      "Assign donor 3 to patient 3\n",
      "Assign donor 4 to patient 4\n",
      "\n"
     ]
    }
   ],
   "source": [
    "# Here we compute the solution with Gurobi\n",
    "init_graph_sol = solve_kidney_exchange('small.csv', True)"
   ]
  },
  {
   "cell_type": "code",
   "execution_count": 10,
   "id": "fbceb2d2-3a7f-4919-b8b9-24aa6159d05a",
   "metadata": {
    "tags": []
   },
   "outputs": [
    {
     "name": "stdout",
     "output_type": "stream",
     "text": [
      "Start solving for kidney exchange with cycle\n",
      "end of solving for kidney exchange with cycle\n",
      "\n",
      "Optimal solution with cycle length of maximum = 3\n",
      "The objective value is 11.4\n",
      "[('0', '20'), ('20', '0'), ('23', '3'), ('24', '4'), ('2', '22'), ('22', '2'), ('26', '6'), ('3', '23'), ('33', '13'), ('34', '14'), ('4', '35'), ('25', '5'), ('35', '15'), ('36', '16'), ('5', '27'), ('27', '7'), ('6', '26'), ('39', '19'), ('7', '25'), ('29', '9'), ('9', '29'), ('10', '30'), ('30', '10'), ('12', '33'), ('13', '34'), ('32', '12'), ('14', '32'), ('15', '24'), ('16', '36'), ('37', '17'), ('17', '37'), ('19', '39')]\n",
      "\n",
      "Assignment\n",
      "Assign donor 0 to patient 0\n",
      "Assign patient 0 to donor 0\n",
      "Assign patient 3 to donor 3\n",
      "Assign patient 4 to donor 4\n",
      "Assign donor 2 to patient 2\n",
      "Assign patient 2 to donor 2\n",
      "Assign patient 6 to donor 6\n",
      "Assign donor 3 to patient 3\n",
      "Assign patient 13 to donor 13\n",
      "Assign patient 14 to donor 14\n",
      "Assign donor 4 to patient 15\n",
      "Assign patient 5 to donor 5\n",
      "Assign patient 15 to donor 15\n",
      "Assign patient 16 to donor 16\n",
      "Assign donor 5 to patient 7\n",
      "Assign patient 7 to donor 7\n",
      "Assign donor 6 to patient 6\n",
      "Assign patient 19 to donor 19\n",
      "Assign donor 7 to patient 5\n",
      "Assign patient 9 to donor 9\n",
      "Assign donor 9 to patient 9\n",
      "Assign donor 10 to patient 10\n",
      "Assign patient 10 to donor 10\n",
      "Assign donor 12 to patient 13\n",
      "Assign donor 13 to patient 14\n",
      "Assign patient 12 to donor 12\n",
      "Assign donor 14 to patient 12\n",
      "Assign donor 15 to patient 4\n",
      "Assign donor 16 to patient 16\n",
      "Assign patient 17 to donor 17\n",
      "Assign donor 17 to patient 17\n",
      "Assign donor 19 to patient 19\n",
      "\n"
     ]
    }
   ],
   "source": [
    "# Here we compute the solution with Gurobi\n",
    "init_graph_sol = solve_kidney_exchange('normal.csv', True)"
   ]
  },
  {
   "cell_type": "code",
   "execution_count": 11,
   "id": "fe409a27-b3c7-4501-867d-5ad11173e727",
   "metadata": {
    "tags": []
   },
   "outputs": [
    {
     "name": "stdout",
     "output_type": "stream",
     "text": [
      "Start solving for kidney exchange with cycle\n",
      "end of solving for kidney exchange with cycle\n",
      "\n",
      "Optimal solution with cycle length of maximum = 4\n",
      "The objective value is 19.5\n",
      "[('48', '8'), ('49', '9'), ('1', '41'), ('41', '1'), ('42', '2'), ('74', '34'), ('2', '49'), ('43', '3'), ('3', '73'), ('45', '5'), ('46', '6'), ('60', '20'), ('73', '33'), ('4', '48'), ('5', '45'), ('44', '4'), ('6', '46'), ('8', '42'), ('9', '44'), ('52', '12'), ('10', '51'), ('51', '11'), ('57', '17'), ('11', '58'), ('50', '10'), ('58', '18'), ('12', '54'), ('54', '14'), ('13', '56'), ('56', '16'), ('14', '57'), ('62', '22'), ('16', '59'), ('59', '19'), ('17', '52'), ('18', '50'), ('19', '53'), ('53', '13'), ('20', '69'), ('69', '29'), ('66', '26'), ('22', '67'), ('67', '27'), ('23', '62'), ('68', '28'), ('24', '66'), ('26', '64'), ('64', '24'), ('27', '68'), ('28', '63'), ('63', '23'), ('29', '60'), ('30', '72'), ('70', '30'), ('72', '32'), ('32', '43'), ('33', '70'), ('76', '36'), ('34', '76'), ('36', '74')]\n",
      "\n",
      "Assignment\n",
      "Assign patient 8 to donor 8\n",
      "Assign patient 9 to donor 9\n",
      "Assign donor 1 to patient 1\n",
      "Assign patient 1 to donor 1\n",
      "Assign patient 2 to donor 2\n",
      "Assign patient 34 to donor 34\n",
      "Assign donor 2 to patient 9\n",
      "Assign patient 3 to donor 3\n",
      "Assign donor 3 to patient 33\n",
      "Assign patient 5 to donor 5\n",
      "Assign patient 6 to donor 6\n",
      "Assign patient 20 to donor 20\n",
      "Assign patient 33 to donor 33\n",
      "Assign donor 4 to patient 8\n",
      "Assign donor 5 to patient 5\n",
      "Assign patient 4 to donor 4\n",
      "Assign donor 6 to patient 6\n",
      "Assign donor 8 to patient 2\n",
      "Assign donor 9 to patient 4\n",
      "Assign patient 12 to donor 12\n",
      "Assign donor 10 to patient 11\n",
      "Assign patient 11 to donor 11\n",
      "Assign patient 17 to donor 17\n",
      "Assign donor 11 to patient 18\n",
      "Assign patient 10 to donor 10\n",
      "Assign patient 18 to donor 18\n",
      "Assign donor 12 to patient 14\n",
      "Assign patient 14 to donor 14\n",
      "Assign donor 13 to patient 16\n",
      "Assign patient 16 to donor 16\n",
      "Assign donor 14 to patient 17\n",
      "Assign patient 22 to donor 22\n",
      "Assign donor 16 to patient 19\n",
      "Assign patient 19 to donor 19\n",
      "Assign donor 17 to patient 12\n",
      "Assign donor 18 to patient 10\n",
      "Assign donor 19 to patient 13\n",
      "Assign patient 13 to donor 13\n",
      "Assign donor 20 to patient 29\n",
      "Assign patient 29 to donor 29\n",
      "Assign patient 26 to donor 26\n",
      "Assign donor 22 to patient 27\n",
      "Assign patient 27 to donor 27\n",
      "Assign donor 23 to patient 22\n",
      "Assign patient 28 to donor 28\n",
      "Assign donor 24 to patient 26\n",
      "Assign donor 26 to patient 24\n",
      "Assign patient 24 to donor 24\n",
      "Assign donor 27 to patient 28\n",
      "Assign donor 28 to patient 23\n",
      "Assign patient 23 to donor 23\n",
      "Assign donor 29 to patient 20\n",
      "Assign donor 30 to patient 32\n",
      "Assign patient 30 to donor 30\n",
      "Assign patient 32 to donor 32\n",
      "Assign donor 32 to patient 3\n",
      "Assign donor 33 to patient 30\n",
      "Assign patient 36 to donor 36\n",
      "Assign donor 34 to patient 36\n",
      "Assign donor 36 to patient 34\n",
      "\n"
     ]
    }
   ],
   "source": [
    "# Here we compute the solution with Gurobi\n",
    "init_graph_sol = solve_kidney_exchange('large.csv', True)"
   ]
  }
 ],
 "metadata": {
  "kernelspec": {
   "display_name": "Python 3 (ipykernel)",
   "language": "python",
   "name": "python3"
  },
  "language_info": {
   "codemirror_mode": {
    "name": "ipython",
    "version": 3
   },
   "file_extension": ".py",
   "mimetype": "text/x-python",
   "name": "python",
   "nbconvert_exporter": "python",
   "pygments_lexer": "ipython3",
   "version": "3.9.13"
  }
 },
 "nbformat": 4,
 "nbformat_minor": 5
}
